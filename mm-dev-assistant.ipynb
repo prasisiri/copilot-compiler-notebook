{
 "cells": [
  {
   "cell_type": "code",
   "execution_count": 23,
   "metadata": {},
   "outputs": [
    {
     "name": "stdout",
     "output_type": "stream",
     "text": [
      " * Serving Flask app '__main__'\n",
      " * Debug mode: off\n"
     ]
    },
    {
     "name": "stderr",
     "output_type": "stream",
     "text": [
      "WARNING: This is a development server. Do not use it in a production deployment. Use a production WSGI server instead.\n",
      " * Running on all addresses (0.0.0.0)\n",
      " * Running on http://127.0.0.1:5023\n",
      " * Running on http://10.0.0.183:5023\n",
      "Press CTRL+C to quit\n",
      "127.0.0.1 - - [08/Oct/2024 23:54:46] \"POST /ask HTTP/1.1\" 200 -\n"
     ]
    },
    {
     "ename": "",
     "evalue": "",
     "output_type": "error",
     "traceback": [
      "\u001b[1;31mThe Kernel crashed while executing code in the current cell or a previous cell. \n",
      "\u001b[1;31mPlease review the code in the cell(s) to identify a possible cause of the failure. \n",
      "\u001b[1;31mClick <a href='https://aka.ms/vscodeJupyterKernelCrash'>here</a> for more info. \n",
      "\u001b[1;31mView Jupyter <a href='command:jupyter.viewOutput'>log</a> for further details."
     ]
    }
   ],
   "source": [
    "from langchain_community.document_loaders import PyPDFLoader\n",
    "from langchain.text_splitter import RecursiveCharacterTextSplitter\n",
    "from langchain_openai import OpenAIEmbeddings\n",
    "from langchain_community.vectorstores import FAISS\n",
    "from langchain_openai import ChatOpenAI\n",
    "from langchain.prompts import PromptTemplate\n",
    "from langchain_core.runnables import RunnablePassthrough\n",
    "from langchain_core.output_parsers import StrOutputParser\n",
    "import configparser\n",
    "import os\n",
    "from flask import Flask, request, jsonify\n",
    "\n",
    "\n",
    "# Read the API key from the config.ini file\n",
    "config = configparser.ConfigParser()\n",
    "config.read('config.ini')\n",
    "api_key = config['openai']['api_key']\n",
    "os.environ['OPENAI_API_KEY'] = api_key\n",
    "\n",
    "loader = PyPDFLoader(\"ach-processing-rules.pdf\")\n",
    "\n",
    "pages = loader.load_and_split()\n",
    "\n",
    "text_splitter = RecursiveCharacterTextSplitter(chunk_size = 200, chunk_overlap = 50)\n",
    "chunks = text_splitter.split_documents(pages)\n",
    "\n",
    "embeddings = OpenAIEmbeddings(model=\"text-embedding-3-large\")\n",
    "\n",
    "vectorstore = FAISS.from_documents(documents=chunks, embedding=embeddings)\n",
    "\n",
    "retriever = vectorstore.as_retriever()\n",
    "\n",
    "def format_docs(docs):\n",
    "    return \"\\n\\n\".join(doc.page_content for doc in docs)\n",
    "\n",
    "llm = ChatOpenAI()\n",
    "\n",
    "template = \"\"\"SYSTEM: You are a question answer bot. \n",
    "                 Be factual in your response.\n",
    "                 Respond to the following question: {question} only from \n",
    "                 the below context :{context}. \n",
    "                 If you don't know the answer, just say that you don't know.\n",
    "               \"\"\"\n",
    "prompt = PromptTemplate.from_template(template)\n",
    "\n",
    "chain = (\n",
    "    {\"context\": retriever | format_docs, \"question\": RunnablePassthrough()}\n",
    "    | prompt\n",
    "    | llm\n",
    "    | StrOutputParser()\n",
    ")\n",
    "\n",
    "app = Flask(__name__)\n",
    "\n",
    "@app.route('/ask', methods=['POST'])\n",
    "def ask_question():\n",
    "    data = request.get_json()\n",
    "    question = data.get('question')\n",
    "    if not question:\n",
    "        return jsonify({\"error\": \"Question is required\"}), 400\n",
    "    \n",
    "    response = chain.invoke(question)\n",
    "    return jsonify({\"response\": response})\n",
    "\n",
    "if __name__ == '__main__':\n",
    "    app.run(host='0.0.0.0', port=5023)"
   ]
  }
 ],
 "metadata": {
  "kernelspec": {
   "display_name": "Python 3",
   "language": "python",
   "name": "python3"
  },
  "language_info": {
   "codemirror_mode": {
    "name": "ipython",
    "version": 3
   },
   "file_extension": ".py",
   "mimetype": "text/x-python",
   "name": "python",
   "nbconvert_exporter": "python",
   "pygments_lexer": "ipython3",
   "version": "3.12.1"
  }
 },
 "nbformat": 4,
 "nbformat_minor": 2
}
